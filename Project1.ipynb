{
 "cells": [
  {
   "cell_type": "markdown",
   "id": "6c639c2c-3cda-4fa7-8302-703128f3ec59",
   "metadata": {},
   "source": [
    "# APP REVIEW SENTIMENT ANALYSIS\n",
    "App Reviews Sentiment Analysis meaans evaluating and understading the sentiment expressed in user reviews of moblies Application."
   ]
  },
  {
   "cell_type": "code",
   "execution_count": 1,
   "id": "4964a757-f9ea-4b91-9281-bd3d56ae7bb4",
   "metadata": {},
   "outputs": [],
   "source": [
    "import numpy as np\n",
    "import pandas as pd"
   ]
  },
  {
   "cell_type": "code",
   "execution_count": 2,
   "id": "9b2e4ba3-90d0-4d2b-a121-7178c4d3a79a",
   "metadata": {},
   "outputs": [],
   "source": [
    "df = pd.read_csv(\"C:\\\\Users\\\\pc\\\\Desktop\\\\rajat program\\\\linkedin-reviews.csv\")"
   ]
  },
  {
   "cell_type": "code",
   "execution_count": 3,
   "id": "7a7e246b-d929-4300-82f9-8a0bf0009045",
   "metadata": {},
   "outputs": [
    {
     "data": {
      "text/html": [
       "<div>\n",
       "<style scoped>\n",
       "    .dataframe tbody tr th:only-of-type {\n",
       "        vertical-align: middle;\n",
       "    }\n",
       "\n",
       "    .dataframe tbody tr th {\n",
       "        vertical-align: top;\n",
       "    }\n",
       "\n",
       "    .dataframe thead th {\n",
       "        text-align: right;\n",
       "    }\n",
       "</style>\n",
       "<table border=\"1\" class=\"dataframe\">\n",
       "  <thead>\n",
       "    <tr style=\"text-align: right;\">\n",
       "      <th></th>\n",
       "      <th>Review</th>\n",
       "      <th>Rating</th>\n",
       "    </tr>\n",
       "  </thead>\n",
       "  <tbody>\n",
       "    <tr>\n",
       "      <th>0</th>\n",
       "      <td>Does absolutely nothing for a LinkedIn beginne...</td>\n",
       "      <td>1</td>\n",
       "    </tr>\n",
       "    <tr>\n",
       "      <th>1</th>\n",
       "      <td>Force close(galaxy tab)</td>\n",
       "      <td>1</td>\n",
       "    </tr>\n",
       "    <tr>\n",
       "      <th>2</th>\n",
       "      <td>Slow and it tries to upload your contacts with...</td>\n",
       "      <td>1</td>\n",
       "    </tr>\n",
       "    <tr>\n",
       "      <th>3</th>\n",
       "      <td>Add ability to customize the profile and move ...</td>\n",
       "      <td>4</td>\n",
       "    </tr>\n",
       "    <tr>\n",
       "      <th>4</th>\n",
       "      <td>Good app, but it's a pain that it's not possib...</td>\n",
       "      <td>4</td>\n",
       "    </tr>\n",
       "  </tbody>\n",
       "</table>\n",
       "</div>"
      ],
      "text/plain": [
       "                                              Review  Rating\n",
       "0  Does absolutely nothing for a LinkedIn beginne...       1\n",
       "1                            Force close(galaxy tab)       1\n",
       "2  Slow and it tries to upload your contacts with...       1\n",
       "3  Add ability to customize the profile and move ...       4\n",
       "4  Good app, but it's a pain that it's not possib...       4"
      ]
     },
     "execution_count": 3,
     "metadata": {},
     "output_type": "execute_result"
    }
   ],
   "source": [
    "df.head()"
   ]
  },
  {
   "cell_type": "code",
   "execution_count": 5,
   "id": "6a03e568-fa9c-48ea-926d-98921ddd54b4",
   "metadata": {},
   "outputs": [],
   "source": [
    "import matplotlib.pyplot as plt\n",
    "import seaborn as sns"
   ]
  },
  {
   "cell_type": "code",
   "execution_count": 6,
   "id": "67f8ea77-8aaa-4793-b28b-011be919609d",
   "metadata": {},
   "outputs": [
    {
     "name": "stdout",
     "output_type": "stream",
     "text": [
      "<class 'pandas.core.frame.DataFrame'>\n",
      "RangeIndex: 702 entries, 0 to 701\n",
      "Data columns (total 2 columns):\n",
      " #   Column  Non-Null Count  Dtype \n",
      "---  ------  --------------  ----- \n",
      " 0   Review  702 non-null    object\n",
      " 1   Rating  702 non-null    int64 \n",
      "dtypes: int64(1), object(1)\n",
      "memory usage: 11.1+ KB\n"
     ]
    }
   ],
   "source": [
    "df.info()"
   ]
  },
  {
   "cell_type": "markdown",
   "id": "5a394a28-23f1-448b-a298-3e96a3a571b0",
   "metadata": {},
   "source": [
    "# Exploratory Data Analysis"
   ]
  },
  {
   "cell_type": "raw",
   "id": "792598ec-cc70-4e6d-a79d-75884eed012a",
   "metadata": {},
   "source": [
    "we will start by analysize the distribution of rating . it will provide  insight into iverall sentiment of the reviews. then \n",
    "we can explore futher, such as analyzing the length of reviews , and possibly derive insight from the text of the reviews\n"
   ]
  },
  {
   "cell_type": "markdown",
   "id": "8b704b9a-e245-4172-b0e7-c107a0720d0a",
   "metadata": {},
   "source": [
    "# Plotting the Distribution of Rating"
   ]
  },
  {
   "cell_type": "code",
   "execution_count": 10,
   "id": "88d2adb5-1470-4c5b-aceb-0a3508b69d9d",
   "metadata": {},
   "outputs": [
    {
     "data": {
      "image/png": "[encoded data removed]",
      "text/plain": [
       "<Figure size 900x500 with 1 Axes>"
      ]
     },
     "metadata": {},
     "output_type": "display_data"
    }
   ],
   "source": [
    "sns.set(style = 'whitegrid')\n",
    "plt.figure(figsize = (9,5))\n",
    "sns.countplot(data = df , x = 'Rating')\n",
    "plt.title('Distribution of Ratings')\n",
    "plt.xlabel('Rating')\n",
    "plt.ylabel('Count')\n",
    "plt.show()"
   ]
  },
  {
   "cell_type": "markdown",
   "id": "5b96856d-053a-4970-b608-0341ff1e735c",
   "metadata": {},
   "source": [
    "# Adding Sentiment Labels in the Data"
   ]
  },
  {
   "cell_type": "raw",
   "id": "c1323133-b2cf-4ca7-9dc7-30f7e4e370d5",
   "metadata": {},
   "source": [
    "we will use textblob library.textblob provides a ploarity scores raning from -1(very negative) to 1 ( very negative) for given \n",
    "text . We can use this score to classify each reviews's sentiment as positive  , negative , or netural."
   ]
  },
  {
   "cell_type": "code",
   "execution_count": 12,
   "id": "4a3c676a-e94f-415a-9f7f-94df6ea6bd44",
   "metadata": {},
   "outputs": [
    {
     "name": "stdout",
     "output_type": "stream",
     "text": [
      "Collecting textblob\n",
      "  Downloading textblob-0.18.0.post0-py3-none-any.whl.metadata (4.5 kB)\n",
      "Requirement already satisfied: nltk>=3.8 in c:\\users\\pc\\anaconda3\\lib\\site-packages (from textblob) (3.8.1)\n",
      "Requirement already satisfied: click in c:\\users\\pc\\anaconda3\\lib\\site-packages (from nltk>=3.8->textblob) (8.1.7)\n",
      "Requirement already satisfied: joblib in c:\\users\\pc\\anaconda3\\lib\\site-packages (from nltk>=3.8->textblob) (1.4.2)\n",
      "Requirement already satisfied: regex>=2021.8.3 in c:\\users\\pc\\anaconda3\\lib\\site-packages (from nltk>=3.8->textblob) (2023.10.3)\n",
      "Requirement already satisfied: tqdm in c:\\users\\pc\\anaconda3\\lib\\site-packages (from nltk>=3.8->textblob) (4.66.4)\n",
      "Requirement already satisfied: colorama in c:\\users\\pc\\anaconda3\\lib\\site-packages (from click->nltk>=3.8->textblob) (0.4.6)\n",
      "Downloading textblob-0.18.0.post0-py3-none-any.whl (626 kB)\n",
      "   ---------------------------------------- 0.0/626.3 kB ? eta -:--:--\n",
      "    --------------------------------------- 10.2/626.3 kB ? eta -:--:--\n",
      "    --------------------------------------- 10.2/626.3 kB ? eta -:--:--\n",
      "   - ------------------------------------- 30.7/626.3 kB 325.1 kB/s eta 0:00:02\n",
      "   -- ------------------------------------ 41.0/626.3 kB 281.8 kB/s eta 0:00:03\n",
      "   ------ ------------------------------- 112.6/626.3 kB 544.7 kB/s eta 0:00:01\n",
      "   -------- ----------------------------- 143.4/626.3 kB 607.9 kB/s eta 0:00:01\n",
      "   ---------- --------------------------- 174.1/626.3 kB 583.1 kB/s eta 0:00:01\n",
      "   ------------ ------------------------- 204.8/626.3 kB 593.2 kB/s eta 0:00:01\n",
      "   ----------------- -------------------- 286.7/626.3 kB 770.1 kB/s eta 0:00:01\n",
      "   --------------------- ---------------- 358.4/626.3 kB 857.5 kB/s eta 0:00:01\n",
      "   ------------------------ ------------- 409.6/626.3 kB 851.5 kB/s eta 0:00:01\n",
      "   --------------------------- ---------- 460.8/626.3 kB 901.1 kB/s eta 0:00:01\n",
      "   ---------------------------------- ----- 542.7/626.3 kB 1.0 MB/s eta 0:00:01\n",
      "   ---------------------------------- ----- 542.7/626.3 kB 1.0 MB/s eta 0:00:01\n",
      "   -------------------------------------- 626.3/626.3 kB 985.7 kB/s eta 0:00:00\n",
      "Installing collected packages: textblob\n",
      "Successfully installed textblob-0.18.0.post0\n"
     ]
    }
   ],
   "source": [
    "!pip install textblob"
   ]
  },
  {
   "cell_type": "code",
   "execution_count": 13,
   "id": "0e63bd4f-c083-4bbf-abda-da9a7bbdc9c4",
   "metadata": {},
   "outputs": [],
   "source": [
    "from textblob import TextBlob"
   ]
  },
  {
   "cell_type": "code",
   "execution_count": 14,
   "id": "c4e3a139-f00e-4b49-ad55-e020b4025b56",
   "metadata": {},
   "outputs": [],
   "source": [
    "def textblob_sentiment_analysis(review):\n",
    "    sentiment = TextBlob(review).sentiment\n",
    "    if sentiment.polarity > 0.1 :\n",
    "        return 'positive'\n",
    "    elif sentiment.polarity < -0.1 :\n",
    "        return 'Negative'\n",
    "    else :\n",
    "        return 'Netrual'"
   ]
  },
  {
   "cell_type": "code",
   "execution_count": 15,
   "id": "10f5018e-13d7-4cbb-aa58-6493cc99fa11",
   "metadata": {},
   "outputs": [],
   "source": [
    "df ['Sentiment'] = df['Review'].apply(textblob_sentiment_analysis)"
   ]
  },
  {
   "cell_type": "code",
   "execution_count": 16,
   "id": "178a483c-18a9-4805-a0b8-59dd0d4cd46d",
   "metadata": {},
   "outputs": [
    {
     "data": {
      "text/html": [
       "<div>\n",
       "<style scoped>\n",
       "    .dataframe tbody tr th:only-of-type {\n",
       "        vertical-align: middle;\n",
       "    }\n",
       "\n",
       "    .dataframe tbody tr th {\n",
       "        vertical-align: top;\n",
       "    }\n",
       "\n",
       "    .dataframe thead th {\n",
       "        text-align: right;\n",
       "    }\n",
       "</style>\n",
       "<table border=\"1\" class=\"dataframe\">\n",
       "  <thead>\n",
       "    <tr style=\"text-align: right;\">\n",
       "      <th></th>\n",
       "      <th>Review</th>\n",
       "      <th>Rating</th>\n",
       "      <th>Sentiment</th>\n",
       "    </tr>\n",
       "  </thead>\n",
       "  <tbody>\n",
       "    <tr>\n",
       "      <th>429</th>\n",
       "      <td>Crashes most of the time and when it does open...</td>\n",
       "      <td>1</td>\n",
       "      <td>Netrual</td>\n",
       "    </tr>\n",
       "    <tr>\n",
       "      <th>105</th>\n",
       "      <td>Works good! ATRIX 3G</td>\n",
       "      <td>4</td>\n",
       "      <td>positive</td>\n",
       "    </tr>\n",
       "    <tr>\n",
       "      <th>376</th>\n",
       "      <td>App is super buggy on Xoom with Honeycomb 3.1....</td>\n",
       "      <td>3</td>\n",
       "      <td>positive</td>\n",
       "    </tr>\n",
       "    <tr>\n",
       "      <th>306</th>\n",
       "      <td>Nice looking app...when I can get to any scree...</td>\n",
       "      <td>3</td>\n",
       "      <td>positive</td>\n",
       "    </tr>\n",
       "    <tr>\n",
       "      <th>508</th>\n",
       "      <td>NICE!</td>\n",
       "      <td>5</td>\n",
       "      <td>positive</td>\n",
       "    </tr>\n",
       "  </tbody>\n",
       "</table>\n",
       "</div>"
      ],
      "text/plain": [
       "                                                Review  Rating Sentiment\n",
       "429  Crashes most of the time and when it does open...       1   Netrual\n",
       "105                               Works good! ATRIX 3G       4  positive\n",
       "376  App is super buggy on Xoom with Honeycomb 3.1....       3  positive\n",
       "306  Nice looking app...when I can get to any scree...       3  positive\n",
       "508                                              NICE!       5  positive"
      ]
     },
     "execution_count": 16,
     "metadata": {},
     "output_type": "execute_result"
    }
   ],
   "source": [
    "df.sample(5)"
   ]
  },
  {
   "cell_type": "markdown",
   "id": "9f24d87a-1666-43b5-a6e6-24fbe0e5169a",
   "metadata": {},
   "source": [
    "# Analyzing App Reviews Sentiments"
   ]
  },
  {
   "cell_type": "code",
   "execution_count": 17,
   "id": "45b53895-069b-446d-8152-3731f5e0fd9f",
   "metadata": {},
   "outputs": [
    {
     "data": {
      "text/plain": [
       "Sentiment\n",
       "Netrual     300\n",
       "positive    295\n",
       "Negative    107\n",
       "Name: count, dtype: int64"
      ]
     },
     "execution_count": 17,
     "metadata": {},
     "output_type": "execute_result"
    }
   ],
   "source": [
    "sentiment_distribution = df['Sentiment'].value_counts()\n",
    "sentiment_distribution"
   ]
  },
  {
   "cell_type": "code",
   "execution_count": 18,
   "id": "62fa56c8-d443-45b3-bf4f-50ba2e7fbb4e",
   "metadata": {},
   "outputs": [
    {
     "data": {
      "image/png": "[encoded data removed]",
      "text/plain": [
       "<Figure size 900x500 with 1 Axes>"
      ]
     },
     "metadata": {},
     "output_type": "display_data"
    }
   ],
   "source": [
    "plt.figure(figsize = (9 , 5))\n",
    "sns.barplot(x = sentiment_distribution.index , \n",
    "            y = sentiment_distribution.values)\n",
    "plt.title('Distribution of Sentiments')\n",
    "plt.xlabel('Sentiment')\n",
    "plt.ylabel('Count')\n",
    "plt.show()"
   ]
  },
  {
   "cell_type": "markdown",
   "id": "80b23388-578c-413c-89b4-d3d5a28a6690",
   "metadata": {},
   "source": [
    "# So , we can see althrough the app has low ratings , still the reviewers don't use many negative words in the reviews for the app.\n",
    "\n",
    "\n",
    "Next, we'll explore the relationship between the sentiments and the ratings. This analysis can help us understand whether there is a correlation between  the sentiment of the text and numerical ratings. "
   ]
  },
  {
   "cell_type": "code",
   "execution_count": 19,
   "id": "f357ee9a-5b4e-4de0-9b69-437ca410b763",
   "metadata": {},
   "outputs": [
    {
     "data": {
      "image/png": "[encoded data removed]",
      "text/plain": [
       "<Figure size 1000x500 with 1 Axes>"
      ]
     },
     "metadata": {},
     "output_type": "display_data"
    }
   ],
   "source": [
    "plt.figure(figsize = (10,5))\n",
    "sns.countplot(data = df,\n",
    "             x = 'Rating',\n",
    "             hue = 'Sentiment')\n",
    "plt.xlabel('Rating')\n",
    "plt.ylabel('Count')\n",
    "plt.legend(title='Sentiment')\n",
    "plt.show() "
   ]
  },
  {
   "cell_type": "markdown",
   "id": "b1128b8e-3c59-4011-851e-f64ef0ffed1d",
   "metadata": {},
   "source": [
    "# Summary\n",
    "\n",
    "App Reviews Sentiment Analysis is a valuable tool for app developers and business to understand user feedback, prioritize feature updates and maintain a positive user community. It involves using data analysis tchniques to determine whether the sentiments in these reviews are positive , negative or neutral. "
   ]
  },
  {
   "cell_type": "code",
   "execution_count": null,
   "id": "afff0f91-e429-4803-99e8-0aa9bcd52554",
   "metadata": {},
   "outputs": [],
   "source": []
  }
 ],
 "metadata": {
  "kernelspec": {
   "display_name": "Python 3 (ipykernel)",
   "language": "python",
   "name": "python3"
  },
  "language_info": {
   "codemirror_mode": {
    "name": "ipython",
    "version": 3
   },
   "file_extension": ".py",
   "mimetype": "text/x-python",
   "name": "python",
   "nbconvert_exporter": "python",
   "pygments_lexer": "ipython3",
   "version": "3.12.4"
  }
 },
 "nbformat": 4,
 "nbformat_minor": 5
}
