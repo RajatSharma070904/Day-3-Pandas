{
 "cells": [
  {
   "cell_type": "code",
   "execution_count": 2,
   "id": "05e31588-6a6c-41f7-884a-fe7b0c311336",
   "metadata": {},
   "outputs": [],
   "source": [
    "# Introduction to Numpy ===>>>> \n",
    "\n",
    "# Numpy is an open-source library that is used for scitific calculations . \n",
    "\n",
    "# Why Numpy is better than List ? \n",
    "# (1). Homogenous data type \n",
    "# (2). Fast  Execution time \n",
    "# (3). Less consume memory "
   ]
  },
  {
   "cell_type": "code",
   "execution_count": 6,
   "id": "627833c0-61c2-44ee-816e-6c96e85bba3a",
   "metadata": {},
   "outputs": [],
   "source": [
    "import numpy as np "
   ]
  },
  {
   "cell_type": "code",
   "execution_count": 7,
   "id": "27246697-fbc1-4c31-9316-326fc693f93a",
   "metadata": {},
   "outputs": [
    {
     "data": {
      "text/plain": [
       "list"
      ]
     },
     "execution_count": 7,
     "metadata": {},
     "output_type": "execute_result"
    }
   ],
   "source": [
    "a = [1,45,78,90]\n",
    "type(a) "
   ]
  },
  {
   "cell_type": "code",
   "execution_count": 9,
   "id": "c5241350-4f42-4c83-b621-8a06faace96e",
   "metadata": {},
   "outputs": [
    {
     "data": {
      "text/plain": [
       "array([ 1, 45, 78, 90])"
      ]
     },
     "execution_count": 9,
     "metadata": {},
     "output_type": "execute_result"
    }
   ],
   "source": [
    "b = np.array(a) \n",
    "b"
   ]
  },
  {
   "cell_type": "code",
   "execution_count": 11,
   "id": "a1c7a4e5-b034-4428-b0e3-1649bf849d52",
   "metadata": {},
   "outputs": [
    {
     "data": {
      "text/plain": [
       "numpy.ndarray"
      ]
     },
     "execution_count": 11,
     "metadata": {},
     "output_type": "execute_result"
    }
   ],
   "source": [
    "type(b) "
   ]
  },
  {
   "cell_type": "code",
   "execution_count": 13,
   "id": "9a41299c-70c5-488a-b3a6-dba3a50b1454",
   "metadata": {},
   "outputs": [
    {
     "data": {
      "text/plain": [
       "[[1, 2, 3], [4, 5, 6], [7, 8, 9]]"
      ]
     },
     "execution_count": 13,
     "metadata": {},
     "output_type": "execute_result"
    }
   ],
   "source": [
    "p = [[1,2,3] , [4,5,6] , [7,8,9]]\n",
    "p"
   ]
  },
  {
   "cell_type": "code",
   "execution_count": 15,
   "id": "439a78b6-0bc8-419d-81f7-8938fb534532",
   "metadata": {},
   "outputs": [
    {
     "data": {
      "text/plain": [
       "array([[1, 2, 3],\n",
       "       [4, 5, 6],\n",
       "       [7, 8, 9]])"
      ]
     },
     "execution_count": 15,
     "metadata": {},
     "output_type": "execute_result"
    }
   ],
   "source": [
    "q = np.array(p) \n",
    "q"
   ]
  },
  {
   "cell_type": "code",
   "execution_count": 17,
   "id": "d00de88f-1692-41d7-ac9f-56fc8ddaad23",
   "metadata": {},
   "outputs": [
    {
     "data": {
      "text/plain": [
       "numpy.ndarray"
      ]
     },
     "execution_count": 17,
     "metadata": {},
     "output_type": "execute_result"
    }
   ],
   "source": [
    "type(q) "
   ]
  },
  {
   "cell_type": "code",
   "execution_count": 19,
   "id": "40b2ff33-baae-45b8-8ea1-8946ffedd724",
   "metadata": {},
   "outputs": [
    {
     "name": "stdout",
     "output_type": "stream",
     "text": [
      "Total Elements =  9\n",
      "Total Rows and columns =  (3, 3)\n",
      "Total Dimension = 2\n"
     ]
    }
   ],
   "source": [
    "print(\"Total Elements = \" , q.size)  ## size = row*column \n",
    "print(\"Total Rows and columns = \" , q.shape) ## shape = row , column \n",
    "print(\"Total Dimension =\" , q.ndim)   ### ndim stands for  dimension of data . "
   ]
  },
  {
   "cell_type": "markdown",
   "id": "c67e59a9-9bb7-488c-8cbb-685fbf37796c",
   "metadata": {},
   "source": [
    "## How can we create a user defined Array ? "
   ]
  },
  {
   "cell_type": "code",
   "execution_count": 21,
   "id": "5a12f71c-3481-4f1f-ad2b-eb4fe30dd981",
   "metadata": {},
   "outputs": [
    {
     "name": "stdin",
     "output_type": "stream",
     "text": [
      "Enter size: 2\n",
      "Enter item: 45\n",
      "Enter item: 45\n"
     ]
    },
    {
     "data": {
      "text/plain": [
       "array([45, 45])"
      ]
     },
     "execution_count": 21,
     "metadata": {},
     "output_type": "execute_result"
    }
   ],
   "source": [
    "a = [] \n",
    "size = int(input(\"Enter size:\"))\n",
    "for i in range(size):\n",
    "    val = int(input(\"Enter item:\"))\n",
    "    a.append(val) \n",
    "# print(a) \n",
    "b = np.array(a) \n",
    "b"
   ]
  },
  {
   "cell_type": "code",
   "execution_count": 22,
   "id": "5ef34a37-05a6-4e2e-93c5-1ef0892f26fb",
   "metadata": {},
   "outputs": [],
   "source": [
    "# Images ===> Pixels = 0(Black)-255px(white) ===> Normalize===> 0(Black)-1px\n",
    "# (white) \n",
    "# Gradient Descent Optimization technique  ===> random weights and bias \n",
    "# When we have less data into our dataframe then we can add dummy data entries \n",
    "# using numpy . "
   ]
  },
  {
   "cell_type": "code",
   "execution_count": 23,
   "id": "f6f3af00-a801-4554-8033-c9b492b0ed14",
   "metadata": {},
   "outputs": [],
   "source": [
    "# Matrix  ===> row , column \n",
    "# Symmatric Matrix ===> n(rows) = n(columns) \n",
    "# Asymmatric Matrix ===> n(rows) != n(columns) \n",
    "# Digonal Elements ===> [(1,1) , (2,2) , (3,3) , (4,4)......(n,n)] "
   ]
  },
  {
   "cell_type": "code",
   "execution_count": 24,
   "id": "4a9f56f9-f200-4797-8af0-5c51938d0a97",
   "metadata": {},
   "outputs": [],
   "source": [
    "# (1). zeros() ===> It will create an array in which all the\n",
    "# values wil be zero and will be separated by .,"
   ]
  },
  {
   "cell_type": "code",
   "execution_count": 26,
   "id": "851ee923-b9ab-4704-acaf-5ab260cb9a70",
   "metadata": {},
   "outputs": [
    {
     "data": {
      "text/plain": [
       "array([0., 0., 0., 0.])"
      ]
     },
     "execution_count": 26,
     "metadata": {},
     "output_type": "execute_result"
    }
   ],
   "source": [
    "a = np.zeros(4) \n",
    "a"
   ]
  },
  {
   "cell_type": "code",
   "execution_count": 28,
   "id": "92884c7a-0cf3-4071-91fa-71e2e07502ef",
   "metadata": {},
   "outputs": [
    {
     "data": {
      "text/plain": [
       "array([[0., 0., 0.],\n",
       "       [0., 0., 0.]])"
      ]
     },
     "execution_count": 28,
     "metadata": {},
     "output_type": "execute_result"
    }
   ],
   "source": [
    "a = np.zeros((2,3))\n",
    "a"
   ]
  },
  {
   "cell_type": "code",
   "execution_count": 30,
   "id": "2f9b1219-4433-4d9b-9b58-3f4abf7392b9",
   "metadata": {},
   "outputs": [],
   "source": [
    "# (2). ones() ===> It will create an array in which all the values will be 1 . "
   ]
  },
  {
   "cell_type": "code",
   "execution_count": 32,
   "id": "1dea950b-ca66-421e-9990-047503f7b62b",
   "metadata": {},
   "outputs": [
    {
     "data": {
      "text/plain": [
       "array([1., 1., 1., 1.])"
      ]
     },
     "execution_count": 32,
     "metadata": {},
     "output_type": "execute_result"
    }
   ],
   "source": [
    "a = np.ones(4) \n",
    "a"
   ]
  },
  {
   "cell_type": "code",
   "execution_count": 34,
   "id": "9448dba9-8ab7-459a-801f-84a515542a53",
   "metadata": {},
   "outputs": [
    {
     "data": {
      "text/plain": [
       "array([[1., 1., 1.],\n",
       "       [1., 1., 1.]])"
      ]
     },
     "execution_count": 34,
     "metadata": {},
     "output_type": "execute_result"
    }
   ],
   "source": [
    "a = np.ones((2,3))\n",
    "a"
   ]
  },
  {
   "cell_type": "code",
   "execution_count": 37,
   "id": "7e505d50-571a-4f3a-8e73-4cd72ca0e106",
   "metadata": {},
   "outputs": [],
   "source": [
    "# (3). eye() ===> \n",
    "# This will create an array in which digonal positional elements \n",
    "# will be one and rest all are 0."
   ]
  },
  {
   "cell_type": "code",
   "execution_count": 38,
   "id": "3e5554eb-7fa6-4568-a284-20fa05c13815",
   "metadata": {},
   "outputs": [
    {
     "data": {
      "text/plain": [
       "array([[1., 0., 0., 0.],\n",
       "       [0., 1., 0., 0.],\n",
       "       [0., 0., 1., 0.]])"
      ]
     },
     "execution_count": 38,
     "metadata": {},
     "output_type": "execute_result"
    }
   ],
   "source": [
    "a = np.eye(3,4)  ### Asymmatric Matrix \n",
    "a"
   ]
  },
  {
   "cell_type": "code",
   "execution_count": 40,
   "id": "4fc16226-17e7-4356-9c7b-c7a84ae887b5",
   "metadata": {},
   "outputs": [
    {
     "data": {
      "text/plain": [
       "array([[1., 0., 0., 0.],\n",
       "       [0., 1., 0., 0.],\n",
       "       [0., 0., 1., 0.],\n",
       "       [0., 0., 0., 1.]])"
      ]
     },
     "execution_count": 40,
     "metadata": {},
     "output_type": "execute_result"
    }
   ],
   "source": [
    "a = np.eye(4)  ### Symmatric Matrix \n",
    "a"
   ]
  },
  {
   "cell_type": "code",
   "execution_count": 41,
   "id": "42ce4a09-d105-4439-bd41-2da53fe63e01",
   "metadata": {},
   "outputs": [],
   "source": [
    "# diag() ==> We can set our custom values on the digonal position in a matrix . "
   ]
  },
  {
   "cell_type": "code",
   "execution_count": 43,
   "id": "206f9835-cd22-43da-b9c9-52a8f933907d",
   "metadata": {},
   "outputs": [
    {
     "data": {
      "text/plain": [
       "array([[ 1,  0,  0,  0],\n",
       "       [ 0, 34,  0,  0],\n",
       "       [ 0,  0, 67,  0],\n",
       "       [ 0,  0,  0, 90]])"
      ]
     },
     "execution_count": 43,
     "metadata": {},
     "output_type": "execute_result"
    }
   ],
   "source": [
    "a = np.diag([1,34,67,90])\n",
    "a"
   ]
  },
  {
   "cell_type": "code",
   "execution_count": 45,
   "id": "508c4c72-bd60-4083-96a4-b567efd226eb",
   "metadata": {},
   "outputs": [],
   "source": [
    "# Random Module ====> \n",
    "# (1). Randint() ===> np.random.randint(min_number , max_number , total_numbers)\n",
    "# (2). Rand() ====> np.random.rand(total numbers)\n",
    "# (3). Randn() ===> np.random.randn(total numbers)\n",
    "# (4). seed() ====> np.random.seed(pass the argument) "
   ]
  },
  {
   "cell_type": "code",
   "execution_count": 47,
   "id": "a04adfec-7be5-4eb5-85e5-d816c1a8f162",
   "metadata": {},
   "outputs": [
    {
     "data": {
      "text/plain": [
       "array([3, 4, 4])"
      ]
     },
     "execution_count": 47,
     "metadata": {},
     "output_type": "execute_result"
    }
   ],
   "source": [
    "np.random.randint(1,10,3)"
   ]
  },
  {
   "cell_type": "code",
   "execution_count": 49,
   "id": "811bf7f2-bd4f-49d5-9343-cde02ce73d3b",
   "metadata": {},
   "outputs": [
    {
     "data": {
      "text/plain": [
       "array([0.7538544 , 0.9641784 , 0.32907335, 0.98093351, 0.19657359])"
      ]
     },
     "execution_count": 49,
     "metadata": {},
     "output_type": "execute_result"
    }
   ],
   "source": [
    "np.random.rand(5) "
   ]
  },
  {
   "cell_type": "code",
   "execution_count": 51,
   "id": "ac7552bd-cbfe-4ed0-9e9a-5fba003f238a",
   "metadata": {},
   "outputs": [
    {
     "data": {
      "text/plain": [
       "array([-1.87106816, -0.1324224 , -1.65431635, -0.72335392])"
      ]
     },
     "execution_count": 51,
     "metadata": {},
     "output_type": "execute_result"
    }
   ],
   "source": [
    "np.random.randn(4)"
   ]
  },
  {
   "cell_type": "code",
   "execution_count": 53,
   "id": "d1dfc3a0-57d9-4b46-967f-0f9c47ae6f7e",
   "metadata": {},
   "outputs": [
    {
     "data": {
      "text/plain": [
       "array([7, 3, 9])"
      ]
     },
     "execution_count": 53,
     "metadata": {},
     "output_type": "execute_result"
    }
   ],
   "source": [
    "np.random.seed(70) \n",
    "\n",
    "np.random.randint(1,10,3)"
   ]
  },
  {
   "cell_type": "code",
   "execution_count": 54,
   "id": "290812bb-03f8-4066-b956-6beba5cc29b2",
   "metadata": {},
   "outputs": [],
   "source": [
    "# Reshaping the data ===> \n",
    "\n",
    "# n(rows) * n(columns) = n(total_elements) \n"
   ]
  },
  {
   "cell_type": "code",
   "execution_count": 56,
   "id": "0a7b8a3e-0577-4eaa-a02a-21eee145a892",
   "metadata": {},
   "outputs": [],
   "source": [
    "# total = 12 \n",
    "# 1*12 , 12*1 \n",
    "# 2*6 , 6*2 \n",
    "# 3*4 , 4*3 \n"
   ]
  },
  {
   "cell_type": "code",
   "execution_count": 58,
   "id": "ba08b72b-09fe-4289-85b7-5c7de5905c2c",
   "metadata": {},
   "outputs": [
    {
     "data": {
      "text/plain": [
       "array([16, 42, 14, 27, 22, 48, 35, 16, 11, 43, 12, 30])"
      ]
     },
     "execution_count": 58,
     "metadata": {},
     "output_type": "execute_result"
    }
   ],
   "source": [
    "a = np.random.randint(1,50,12)\n",
    "a"
   ]
  },
  {
   "cell_type": "code",
   "execution_count": 60,
   "id": "5611155f-8a54-41a7-a634-77cb05bc0a43",
   "metadata": {},
   "outputs": [
    {
     "data": {
      "text/plain": [
       "array([[16, 42, 14, 27, 22, 48],\n",
       "       [35, 16, 11, 43, 12, 30]])"
      ]
     },
     "execution_count": 60,
     "metadata": {},
     "output_type": "execute_result"
    }
   ],
   "source": [
    "a.reshape(2,6)"
   ]
  },
  {
   "cell_type": "code",
   "execution_count": 62,
   "id": "b2f85126-332b-4551-b99d-ed37e1241c29",
   "metadata": {},
   "outputs": [
    {
     "data": {
      "text/plain": [
       "array([[16, 42],\n",
       "       [14, 27],\n",
       "       [22, 48],\n",
       "       [35, 16],\n",
       "       [11, 43],\n",
       "       [12, 30]])"
      ]
     },
     "execution_count": 62,
     "metadata": {},
     "output_type": "execute_result"
    }
   ],
   "source": [
    "a.reshape(6,2)"
   ]
  },
  {
   "cell_type": "code",
   "execution_count": 64,
   "id": "4524dc54-ed15-45fa-979b-1edd71856bbd",
   "metadata": {},
   "outputs": [
    {
     "data": {
      "text/plain": [
       "array([[16, 42, 14, 27],\n",
       "       [22, 48, 35, 16],\n",
       "       [11, 43, 12, 30]])"
      ]
     },
     "execution_count": 64,
     "metadata": {},
     "output_type": "execute_result"
    }
   ],
   "source": [
    "a.reshape(3,4)"
   ]
  },
  {
   "cell_type": "code",
   "execution_count": 65,
   "id": "cdfa17bc-f230-44d1-acf2-ca25e264fda7",
   "metadata": {},
   "outputs": [],
   "source": [
    "# View vs Copy "
   ]
  },
  {
   "cell_type": "code",
   "execution_count": 67,
   "id": "e75f1706-5b8f-416e-8568-665917b71c82",
   "metadata": {},
   "outputs": [
    {
     "data": {
      "text/plain": [
       "array([10, 20, 30,  0,  0,  0, 70, 80])"
      ]
     },
     "execution_count": 67,
     "metadata": {},
     "output_type": "execute_result"
    }
   ],
   "source": [
    "a = np.array([10,20,30,40,50,60,70,80])\n",
    "b = a[3:6]\n",
    "b[:] = 0 \n",
    "a"
   ]
  },
  {
   "cell_type": "code",
   "execution_count": 69,
   "id": "6c73758d-172e-489f-a956-47246ad7047a",
   "metadata": {},
   "outputs": [
    {
     "data": {
      "text/plain": [
       "array([0, 0, 0])"
      ]
     },
     "execution_count": 69,
     "metadata": {},
     "output_type": "execute_result"
    }
   ],
   "source": [
    "a = np.array([10,20,30,40,50,60,70,80])\n",
    "b = a[3:6].copy() \n",
    "b[:] = 0 \n",
    "a\n",
    "b"
   ]
  },
  {
   "cell_type": "markdown",
   "id": "6d0d3ad1-3348-4f27-8408-f8c991210fd7",
   "metadata": {},
   "source": [
    "# Condtional Selection in Numpy "
   ]
  },
  {
   "cell_type": "code",
   "execution_count": 71,
   "id": "c4134bff-57c9-4eb4-a838-b09ab7f93f7b",
   "metadata": {},
   "outputs": [
    {
     "data": {
      "text/plain": [
       "array([ 1,  2,  3,  4,  5,  6,  7,  8,  9, 10, 11, 12, 13, 14, 15])"
      ]
     },
     "execution_count": 71,
     "metadata": {},
     "output_type": "execute_result"
    }
   ],
   "source": [
    "a = np.arange(1,16,1)\n",
    "a"
   ]
  },
  {
   "cell_type": "code",
   "execution_count": 73,
   "id": "d04b1f88-6647-4d22-b804-37f69c16b2c2",
   "metadata": {},
   "outputs": [
    {
     "data": {
      "text/plain": [
       "array([False, False, False, False, False, False, False, False, False,\n",
       "       False,  True,  True,  True,  True,  True])"
      ]
     },
     "execution_count": 73,
     "metadata": {},
     "output_type": "execute_result"
    }
   ],
   "source": [
    "a>10"
   ]
  },
  {
   "cell_type": "code",
   "execution_count": 75,
   "id": "02b9662a-ef0c-491f-8535-96b17f778ec5",
   "metadata": {},
   "outputs": [
    {
     "data": {
      "text/plain": [
       "array([11, 12, 13, 14, 15])"
      ]
     },
     "execution_count": 75,
     "metadata": {},
     "output_type": "execute_result"
    }
   ],
   "source": [
    "b = a>10 \n",
    "a[b]"
   ]
  },
  {
   "cell_type": "code",
   "execution_count": 77,
   "id": "a72263cc-b874-451b-a6c2-2e4131c772db",
   "metadata": {},
   "outputs": [
    {
     "data": {
      "text/plain": [
       "array([ 2,  4,  6,  8, 10, 12, 14])"
      ]
     },
     "execution_count": 77,
     "metadata": {},
     "output_type": "execute_result"
    }
   ],
   "source": [
    "a[a%2 == 0]"
   ]
  },
  {
   "cell_type": "code",
   "execution_count": 79,
   "id": "cf3069bd-4d59-4746-9906-545c8dce6b04",
   "metadata": {},
   "outputs": [
    {
     "data": {
      "text/plain": [
       "array([[1, 2],\n",
       "       [3, 4]])"
      ]
     },
     "execution_count": 79,
     "metadata": {},
     "output_type": "execute_result"
    }
   ],
   "source": [
    "a = np.arange(1,5).reshape(2,2)\n",
    "a"
   ]
  },
  {
   "cell_type": "code",
   "execution_count": 81,
   "id": "a84ded54-95e6-4f3c-8c64-fa041f332bc8",
   "metadata": {},
   "outputs": [
    {
     "data": {
      "text/plain": [
       "array([1.  , 1.25, 1.5 , 1.75, 2.  ])"
      ]
     },
     "execution_count": 81,
     "metadata": {},
     "output_type": "execute_result"
    }
   ],
   "source": [
    "# LinSpace() ===> \n",
    "a = np.linspace(1,2,5)\n",
    "a"
   ]
  },
  {
   "cell_type": "code",
   "execution_count": 83,
   "id": "15c311ea-1735-49a0-8075-77b9ba44c647",
   "metadata": {},
   "outputs": [],
   "source": [
    "# hstack() and vstack() =====> \n",
    "a=  np.array([1,2,3,4])\n",
    "b = np.array([5,6,7,8])\n"
   ]
  },
  {
   "cell_type": "code",
   "execution_count": 85,
   "id": "b11a1f2c-54da-4c79-b2b7-8a1f9e97dbbf",
   "metadata": {},
   "outputs": [
    {
     "data": {
      "text/plain": [
       "array([1, 2, 3, 4, 5, 6, 7, 8])"
      ]
     },
     "execution_count": 85,
     "metadata": {},
     "output_type": "execute_result"
    }
   ],
   "source": [
    "np.hstack((a,b))"
   ]
  },
  {
   "cell_type": "code",
   "execution_count": 87,
   "id": "6171696d-eaf4-4cf6-b078-1f40742df33f",
   "metadata": {},
   "outputs": [
    {
     "data": {
      "text/plain": [
       "array([[1, 2, 3, 4],\n",
       "       [5, 6, 7, 8]])"
      ]
     },
     "execution_count": 87,
     "metadata": {},
     "output_type": "execute_result"
    }
   ],
   "source": [
    "np.vstack((a,b))"
   ]
  },
  {
   "cell_type": "code",
   "execution_count": null,
   "id": "b08676b1-fb0c-4f44-a788-f2b61aa1aee9",
   "metadata": {},
   "outputs": [],
   "source": []
  }
 ],
 "metadata": {
  "kernelspec": {
   "display_name": "Python 3 (ipykernel)",
   "language": "python",
   "name": "python3"
  },
  "language_info": {
   "codemirror_mode": {
    "name": "ipython",
    "version": 3
   },
   "file_extension": ".py",
   "mimetype": "text/x-python",
   "name": "python",
   "nbconvert_exporter": "python",
   "pygments_lexer": "ipython3",
   "version": "3.12.4"
  }
 },
 "nbformat": 4,
 "nbformat_minor": 5
}
