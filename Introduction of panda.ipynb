{
 "cells": [
  {
   "cell_type": "code",
   "execution_count": 1,
   "id": "bb5652f7-427d-4e83-b4d4-47aa2c73f539",
   "metadata": {},
   "outputs": [],
   "source": [
    "#pandas ==> open source library that is used for data handling data manipulation\n",
    "# data Structure of pandas ===>>\n",
    "#(1) series ==> one-dimensional array , it shows only not columns name.\n",
    "# (2) dataframe ===> multi-dimensional , it shows values with columns names."
   ]
  },
  {
   "cell_type": "markdown",
   "id": "378e212a-2a37-4080-b8af-ae32e1ad39a9",
   "metadata": {},
   "source": [
    "#(1).series"
   ]
  },
  {
   "cell_type": "code",
   "execution_count": 2,
   "id": "f98e7287-f0d1-4ecb-8c33-b0d24f7f39da",
   "metadata": {},
   "outputs": [],
   "source": [
    "import pandas as pd"
   ]
  },
  {
   "cell_type": "code",
   "execution_count": 5,
   "id": "bac36db2-3d94-4f05-b69c-f755f33edfc3",
   "metadata": {},
   "outputs": [
    {
     "data": {
      "text/plain": [
       "0      1\n",
       "1     42\n",
       "2     78\n",
       "3    990\n",
       "dtype: int64"
      ]
     },
     "execution_count": 5,
     "metadata": {},
     "output_type": "execute_result"
    }
   ],
   "source": [
    "a = pd.Series([1,42,78,990])\n",
    "a"
   ]
  },
  {
   "cell_type": "code",
   "execution_count": 6,
   "id": "a0dda41d-6c57-4efb-ab9c-94f816307d4e",
   "metadata": {},
   "outputs": [
    {
     "data": {
      "text/plain": [
       "type"
      ]
     },
     "execution_count": 6,
     "metadata": {},
     "output_type": "execute_result"
    }
   ],
   "source": [
    "type"
   ]
  },
  {
   "cell_type": "code",
   "execution_count": 8,
   "id": "9900c2bb-bd06-44b8-8299-914597c91c73",
   "metadata": {},
   "outputs": [
    {
     "data": {
      "text/plain": [
       "pandas.core.series.Series"
      ]
     },
     "execution_count": 8,
     "metadata": {},
     "output_type": "execute_result"
    }
   ],
   "source": [
    "type(a)"
   ]
  },
  {
   "cell_type": "code",
   "execution_count": 29,
   "id": "537378e6-728d-4b19-9c83-b68cdb922dec",
   "metadata": {},
   "outputs": [],
   "source": [
    "# !pip install pandas"
   ]
  },
  {
   "cell_type": "markdown",
   "id": "05e3fd25-0f0a-4f29-adf0-5d8fd8bc0686",
   "metadata": {},
   "source": [
    "#dataframe"
   ]
  },
  {
   "cell_type": "code",
   "execution_count": 17,
   "id": "4172f7c8-6c6e-4eaa-bc15-fd7bf2e001b6",
   "metadata": {},
   "outputs": [],
   "source": [
    "a1 ={\n",
    "    \"Emp_ID\" : [101,102,103,104,105,106,107,108],\n",
    "    \"Name\" : ['b' , 'B' , 'b', 'b' , 'b', 'b', 'b' , 'd'] ,\n",
    "    \"department\" : ['IT' , 'CS' , 'ME' , 'CV' , 'MN' , 'FG' , 'TY' , 'RR'],\n",
    "    \"working_hours\" : [8,9,7,8,9,9,6,6],\n",
    "    \"salary\" : [ 34000, 40000, 220000, 40000, 60000, 800000,900000 , 80000]\n",
    "\n",
    "}"
   ]
  },
  {
   "cell_type": "code",
   "execution_count": 20,
   "id": "6a9d1593-fbec-4933-8e73-157dd569b699",
   "metadata": {},
   "outputs": [
    {
     "data": {
      "text/plain": [
       "dict"
      ]
     },
     "execution_count": 20,
     "metadata": {},
     "output_type": "execute_result"
    }
   ],
   "source": [
    "type(a1)"
   ]
  },
  {
   "cell_type": "code",
   "execution_count": 27,
   "id": "efc2165c-6b52-40fa-8053-ad07d6e75179",
   "metadata": {},
   "outputs": [],
   "source": [
    "df = pd.DataFrame(a1)"
   ]
  },
  {
   "cell_type": "code",
   "execution_count": 30,
   "id": "38408b0e-fb70-4554-91e8-029cd5f4930a",
   "metadata": {},
   "outputs": [
    {
     "data": {
      "text/html": [
       "<div>\n",
       "<style scoped>\n",
       "    .dataframe tbody tr th:only-of-type {\n",
       "        vertical-align: middle;\n",
       "    }\n",
       "\n",
       "    .dataframe tbody tr th {\n",
       "        vertical-align: top;\n",
       "    }\n",
       "\n",
       "    .dataframe thead th {\n",
       "        text-align: right;\n",
       "    }\n",
       "</style>\n",
       "<table border=\"1\" class=\"dataframe\">\n",
       "  <thead>\n",
       "    <tr style=\"text-align: right;\">\n",
       "      <th></th>\n",
       "      <th>Emp_ID</th>\n",
       "      <th>Name</th>\n",
       "      <th>department</th>\n",
       "      <th>working_hours</th>\n",
       "      <th>salary</th>\n",
       "    </tr>\n",
       "  </thead>\n",
       "  <tbody>\n",
       "    <tr>\n",
       "      <th>0</th>\n",
       "      <td>101</td>\n",
       "      <td>b</td>\n",
       "      <td>IT</td>\n",
       "      <td>8</td>\n",
       "      <td>34000</td>\n",
       "    </tr>\n",
       "    <tr>\n",
       "      <th>1</th>\n",
       "      <td>102</td>\n",
       "      <td>B</td>\n",
       "      <td>CS</td>\n",
       "      <td>9</td>\n",
       "      <td>40000</td>\n",
       "    </tr>\n",
       "    <tr>\n",
       "      <th>2</th>\n",
       "      <td>103</td>\n",
       "      <td>b</td>\n",
       "      <td>ME</td>\n",
       "      <td>7</td>\n",
       "      <td>220000</td>\n",
       "    </tr>\n",
       "    <tr>\n",
       "      <th>3</th>\n",
       "      <td>104</td>\n",
       "      <td>b</td>\n",
       "      <td>CV</td>\n",
       "      <td>8</td>\n",
       "      <td>40000</td>\n",
       "    </tr>\n",
       "    <tr>\n",
       "      <th>4</th>\n",
       "      <td>105</td>\n",
       "      <td>b</td>\n",
       "      <td>MN</td>\n",
       "      <td>9</td>\n",
       "      <td>60000</td>\n",
       "    </tr>\n",
       "    <tr>\n",
       "      <th>5</th>\n",
       "      <td>106</td>\n",
       "      <td>b</td>\n",
       "      <td>FG</td>\n",
       "      <td>9</td>\n",
       "      <td>800000</td>\n",
       "    </tr>\n",
       "    <tr>\n",
       "      <th>6</th>\n",
       "      <td>107</td>\n",
       "      <td>b</td>\n",
       "      <td>TY</td>\n",
       "      <td>6</td>\n",
       "      <td>900000</td>\n",
       "    </tr>\n",
       "    <tr>\n",
       "      <th>7</th>\n",
       "      <td>108</td>\n",
       "      <td>d</td>\n",
       "      <td>RR</td>\n",
       "      <td>6</td>\n",
       "      <td>80000</td>\n",
       "    </tr>\n",
       "  </tbody>\n",
       "</table>\n",
       "</div>"
      ],
      "text/plain": [
       "   Emp_ID Name department  working_hours  salary\n",
       "0     101    b         IT              8   34000\n",
       "1     102    B         CS              9   40000\n",
       "2     103    b         ME              7  220000\n",
       "3     104    b         CV              8   40000\n",
       "4     105    b         MN              9   60000\n",
       "5     106    b         FG              9  800000\n",
       "6     107    b         TY              6  900000\n",
       "7     108    d         RR              6   80000"
      ]
     },
     "execution_count": 30,
     "metadata": {},
     "output_type": "execute_result"
    }
   ],
   "source": [
    "df"
   ]
  },
  {
   "cell_type": "markdown",
   "id": "c2ba5e81-c5ca-41ad-901a-6cf5c15dc9a6",
   "metadata": {},
   "source": [
    "#how can we check top 5 data in a dataframe"
   ]
  },
  {
   "cell_type": "code",
   "execution_count": 32,
   "id": "83266603-66ba-4fe3-8c0d-b167005c4a98",
   "metadata": {},
   "outputs": [
    {
     "data": {
      "text/html": [
       "<div>\n",
       "<style scoped>\n",
       "    .dataframe tbody tr th:only-of-type {\n",
       "        vertical-align: middle;\n",
       "    }\n",
       "\n",
       "    .dataframe tbody tr th {\n",
       "        vertical-align: top;\n",
       "    }\n",
       "\n",
       "    .dataframe thead th {\n",
       "        text-align: right;\n",
       "    }\n",
       "</style>\n",
       "<table border=\"1\" class=\"dataframe\">\n",
       "  <thead>\n",
       "    <tr style=\"text-align: right;\">\n",
       "      <th></th>\n",
       "      <th>Emp_ID</th>\n",
       "      <th>Name</th>\n",
       "      <th>department</th>\n",
       "      <th>working_hours</th>\n",
       "      <th>salary</th>\n",
       "    </tr>\n",
       "  </thead>\n",
       "  <tbody>\n",
       "    <tr>\n",
       "      <th>0</th>\n",
       "      <td>101</td>\n",
       "      <td>b</td>\n",
       "      <td>IT</td>\n",
       "      <td>8</td>\n",
       "      <td>34000</td>\n",
       "    </tr>\n",
       "    <tr>\n",
       "      <th>1</th>\n",
       "      <td>102</td>\n",
       "      <td>B</td>\n",
       "      <td>CS</td>\n",
       "      <td>9</td>\n",
       "      <td>40000</td>\n",
       "    </tr>\n",
       "    <tr>\n",
       "      <th>2</th>\n",
       "      <td>103</td>\n",
       "      <td>b</td>\n",
       "      <td>ME</td>\n",
       "      <td>7</td>\n",
       "      <td>220000</td>\n",
       "    </tr>\n",
       "    <tr>\n",
       "      <th>3</th>\n",
       "      <td>104</td>\n",
       "      <td>b</td>\n",
       "      <td>CV</td>\n",
       "      <td>8</td>\n",
       "      <td>40000</td>\n",
       "    </tr>\n",
       "    <tr>\n",
       "      <th>4</th>\n",
       "      <td>105</td>\n",
       "      <td>b</td>\n",
       "      <td>MN</td>\n",
       "      <td>9</td>\n",
       "      <td>60000</td>\n",
       "    </tr>\n",
       "  </tbody>\n",
       "</table>\n",
       "</div>"
      ],
      "text/plain": [
       "   Emp_ID Name department  working_hours  salary\n",
       "0     101    b         IT              8   34000\n",
       "1     102    B         CS              9   40000\n",
       "2     103    b         ME              7  220000\n",
       "3     104    b         CV              8   40000\n",
       "4     105    b         MN              9   60000"
      ]
     },
     "execution_count": 32,
     "metadata": {},
     "output_type": "execute_result"
    }
   ],
   "source": [
    "df.head()"
   ]
  },
  {
   "cell_type": "code",
   "execution_count": 34,
   "id": "8cd00917-6114-4140-ae71-0813934b026e",
   "metadata": {},
   "outputs": [
    {
     "data": {
      "text/html": [
       "<div>\n",
       "<style scoped>\n",
       "    .dataframe tbody tr th:only-of-type {\n",
       "        vertical-align: middle;\n",
       "    }\n",
       "\n",
       "    .dataframe tbody tr th {\n",
       "        vertical-align: top;\n",
       "    }\n",
       "\n",
       "    .dataframe thead th {\n",
       "        text-align: right;\n",
       "    }\n",
       "</style>\n",
       "<table border=\"1\" class=\"dataframe\">\n",
       "  <thead>\n",
       "    <tr style=\"text-align: right;\">\n",
       "      <th></th>\n",
       "      <th>Emp_ID</th>\n",
       "      <th>Name</th>\n",
       "      <th>department</th>\n",
       "      <th>working_hours</th>\n",
       "      <th>salary</th>\n",
       "    </tr>\n",
       "  </thead>\n",
       "  <tbody>\n",
       "    <tr>\n",
       "      <th>0</th>\n",
       "      <td>101</td>\n",
       "      <td>b</td>\n",
       "      <td>IT</td>\n",
       "      <td>8</td>\n",
       "      <td>34000</td>\n",
       "    </tr>\n",
       "    <tr>\n",
       "      <th>1</th>\n",
       "      <td>102</td>\n",
       "      <td>B</td>\n",
       "      <td>CS</td>\n",
       "      <td>9</td>\n",
       "      <td>40000</td>\n",
       "    </tr>\n",
       "  </tbody>\n",
       "</table>\n",
       "</div>"
      ],
      "text/plain": [
       "   Emp_ID Name department  working_hours  salary\n",
       "0     101    b         IT              8   34000\n",
       "1     102    B         CS              9   40000"
      ]
     },
     "execution_count": 34,
     "metadata": {},
     "output_type": "execute_result"
    }
   ],
   "source": [
    "df.head(2)"
   ]
  },
  {
   "cell_type": "code",
   "execution_count": 35,
   "id": "c79bd77e-9459-443f-af95-c9c1e52a28e6",
   "metadata": {},
   "outputs": [],
   "source": [
    "#how we can check bottom 5 data?"
   ]
  },
  {
   "cell_type": "code",
   "execution_count": 37,
   "id": "1f9f1526-b507-42fe-b3be-ef088e57e279",
   "metadata": {},
   "outputs": [
    {
     "data": {
      "text/html": [
       "<div>\n",
       "<style scoped>\n",
       "    .dataframe tbody tr th:only-of-type {\n",
       "        vertical-align: middle;\n",
       "    }\n",
       "\n",
       "    .dataframe tbody tr th {\n",
       "        vertical-align: top;\n",
       "    }\n",
       "\n",
       "    .dataframe thead th {\n",
       "        text-align: right;\n",
       "    }\n",
       "</style>\n",
       "<table border=\"1\" class=\"dataframe\">\n",
       "  <thead>\n",
       "    <tr style=\"text-align: right;\">\n",
       "      <th></th>\n",
       "      <th>Emp_ID</th>\n",
       "      <th>Name</th>\n",
       "      <th>department</th>\n",
       "      <th>working_hours</th>\n",
       "      <th>salary</th>\n",
       "    </tr>\n",
       "  </thead>\n",
       "  <tbody>\n",
       "    <tr>\n",
       "      <th>3</th>\n",
       "      <td>104</td>\n",
       "      <td>b</td>\n",
       "      <td>CV</td>\n",
       "      <td>8</td>\n",
       "      <td>40000</td>\n",
       "    </tr>\n",
       "    <tr>\n",
       "      <th>4</th>\n",
       "      <td>105</td>\n",
       "      <td>b</td>\n",
       "      <td>MN</td>\n",
       "      <td>9</td>\n",
       "      <td>60000</td>\n",
       "    </tr>\n",
       "    <tr>\n",
       "      <th>5</th>\n",
       "      <td>106</td>\n",
       "      <td>b</td>\n",
       "      <td>FG</td>\n",
       "      <td>9</td>\n",
       "      <td>800000</td>\n",
       "    </tr>\n",
       "    <tr>\n",
       "      <th>6</th>\n",
       "      <td>107</td>\n",
       "      <td>b</td>\n",
       "      <td>TY</td>\n",
       "      <td>6</td>\n",
       "      <td>900000</td>\n",
       "    </tr>\n",
       "    <tr>\n",
       "      <th>7</th>\n",
       "      <td>108</td>\n",
       "      <td>d</td>\n",
       "      <td>RR</td>\n",
       "      <td>6</td>\n",
       "      <td>80000</td>\n",
       "    </tr>\n",
       "  </tbody>\n",
       "</table>\n",
       "</div>"
      ],
      "text/plain": [
       "   Emp_ID Name department  working_hours  salary\n",
       "3     104    b         CV              8   40000\n",
       "4     105    b         MN              9   60000\n",
       "5     106    b         FG              9  800000\n",
       "6     107    b         TY              6  900000\n",
       "7     108    d         RR              6   80000"
      ]
     },
     "execution_count": 37,
     "metadata": {},
     "output_type": "execute_result"
    }
   ],
   "source": [
    "df.tail()"
   ]
  },
  {
   "cell_type": "code",
   "execution_count": 38,
   "id": "409e7c3c-aaf1-4bd8-80e9-ece4c518ce6e",
   "metadata": {},
   "outputs": [
    {
     "data": {
      "text/html": [
       "<div>\n",
       "<style scoped>\n",
       "    .dataframe tbody tr th:only-of-type {\n",
       "        vertical-align: middle;\n",
       "    }\n",
       "\n",
       "    .dataframe tbody tr th {\n",
       "        vertical-align: top;\n",
       "    }\n",
       "\n",
       "    .dataframe thead th {\n",
       "        text-align: right;\n",
       "    }\n",
       "</style>\n",
       "<table border=\"1\" class=\"dataframe\">\n",
       "  <thead>\n",
       "    <tr style=\"text-align: right;\">\n",
       "      <th></th>\n",
       "      <th>Emp_ID</th>\n",
       "      <th>Name</th>\n",
       "      <th>department</th>\n",
       "      <th>working_hours</th>\n",
       "      <th>salary</th>\n",
       "    </tr>\n",
       "  </thead>\n",
       "  <tbody>\n",
       "    <tr>\n",
       "      <th>6</th>\n",
       "      <td>107</td>\n",
       "      <td>b</td>\n",
       "      <td>TY</td>\n",
       "      <td>6</td>\n",
       "      <td>900000</td>\n",
       "    </tr>\n",
       "    <tr>\n",
       "      <th>7</th>\n",
       "      <td>108</td>\n",
       "      <td>d</td>\n",
       "      <td>RR</td>\n",
       "      <td>6</td>\n",
       "      <td>80000</td>\n",
       "    </tr>\n",
       "  </tbody>\n",
       "</table>\n",
       "</div>"
      ],
      "text/plain": [
       "   Emp_ID Name department  working_hours  salary\n",
       "6     107    b         TY              6  900000\n",
       "7     108    d         RR              6   80000"
      ]
     },
     "execution_count": 38,
     "metadata": {},
     "output_type": "execute_result"
    }
   ],
   "source": [
    "df.tail(2)"
   ]
  },
  {
   "cell_type": "code",
   "execution_count": 39,
   "id": "b4683a33-da89-4a51-9078-6ad390263da3",
   "metadata": {},
   "outputs": [],
   "source": [
    "#how we can check random indexed data? {ye kya hoti h }"
   ]
  },
  {
   "cell_type": "code",
   "execution_count": 42,
   "id": "61729dec-d8be-411f-a56d-d50a8b44652e",
   "metadata": {},
   "outputs": [
    {
     "data": {
      "text/html": [
       "<div>\n",
       "<style scoped>\n",
       "    .dataframe tbody tr th:only-of-type {\n",
       "        vertical-align: middle;\n",
       "    }\n",
       "\n",
       "    .dataframe tbody tr th {\n",
       "        vertical-align: top;\n",
       "    }\n",
       "\n",
       "    .dataframe thead th {\n",
       "        text-align: right;\n",
       "    }\n",
       "</style>\n",
       "<table border=\"1\" class=\"dataframe\">\n",
       "  <thead>\n",
       "    <tr style=\"text-align: right;\">\n",
       "      <th></th>\n",
       "      <th>Emp_ID</th>\n",
       "      <th>Name</th>\n",
       "      <th>department</th>\n",
       "      <th>working_hours</th>\n",
       "      <th>salary</th>\n",
       "    </tr>\n",
       "  </thead>\n",
       "  <tbody>\n",
       "    <tr>\n",
       "      <th>6</th>\n",
       "      <td>107</td>\n",
       "      <td>b</td>\n",
       "      <td>TY</td>\n",
       "      <td>6</td>\n",
       "      <td>900000</td>\n",
       "    </tr>\n",
       "    <tr>\n",
       "      <th>1</th>\n",
       "      <td>102</td>\n",
       "      <td>B</td>\n",
       "      <td>CS</td>\n",
       "      <td>9</td>\n",
       "      <td>40000</td>\n",
       "    </tr>\n",
       "    <tr>\n",
       "      <th>0</th>\n",
       "      <td>101</td>\n",
       "      <td>b</td>\n",
       "      <td>IT</td>\n",
       "      <td>8</td>\n",
       "      <td>34000</td>\n",
       "    </tr>\n",
       "  </tbody>\n",
       "</table>\n",
       "</div>"
      ],
      "text/plain": [
       "   Emp_ID Name department  working_hours  salary\n",
       "6     107    b         TY              6  900000\n",
       "1     102    B         CS              9   40000\n",
       "0     101    b         IT              8   34000"
      ]
     },
     "execution_count": 42,
     "metadata": {},
     "output_type": "execute_result"
    }
   ],
   "source": [
    "df.sample(3)"
   ]
  },
  {
   "cell_type": "code",
   "execution_count": 43,
   "id": "af115a10-0bc0-40c0-a2d5-c228715d44b3",
   "metadata": {},
   "outputs": [],
   "source": [
    "#how we can check total columns in a dataframes?\n"
   ]
  },
  {
   "cell_type": "code",
   "execution_count": 44,
   "id": "7f263400-2a87-4471-bcdd-cb9c9c5e048a",
   "metadata": {},
   "outputs": [
    {
     "data": {
      "text/plain": [
       "Index(['Emp_ID', 'Name', 'department', 'working_hours', 'salary'], dtype='object')"
      ]
     },
     "execution_count": 44,
     "metadata": {},
     "output_type": "execute_result"
    }
   ],
   "source": [
    "df.columns"
   ]
  },
  {
   "cell_type": "markdown",
   "id": "872acee2-f75b-408c-bd06-603048dd9165",
   "metadata": {},
   "source": [
    "how we can check overall information of a dataframe\n"
   ]
  },
  {
   "cell_type": "code",
   "execution_count": 47,
   "id": "3a251344-bdd4-4593-92fe-faf5012fb1fb",
   "metadata": {},
   "outputs": [
    {
     "name": "stdout",
     "output_type": "stream",
     "text": [
      "<class 'pandas.core.frame.DataFrame'>\n",
      "RangeIndex: 8 entries, 0 to 7\n",
      "Data columns (total 5 columns):\n",
      " #   Column         Non-Null Count  Dtype \n",
      "---  ------         --------------  ----- \n",
      " 0   Emp_ID         8 non-null      int64 \n",
      " 1   Name           8 non-null      object\n",
      " 2   department     8 non-null      object\n",
      " 3   working_hours  8 non-null      int64 \n",
      " 4   salary         8 non-null      int64 \n",
      "dtypes: int64(3), object(2)\n",
      "memory usage: 452.0+ bytes\n"
     ]
    }
   ],
   "source": [
    "df.info()\n"
   ]
  },
  {
   "cell_type": "code",
   "execution_count": 48,
   "id": "65e765f1-0824-4c7c-a92e-ab2418dd8e2e",
   "metadata": {},
   "outputs": [],
   "source": [
    "#how can we check sataically view of our data?"
   ]
  },
  {
   "cell_type": "code",
   "execution_count": 49,
   "id": "e3b237b2-06f0-4050-8726-41e79f486879",
   "metadata": {},
   "outputs": [
    {
     "data": {
      "text/html": [
       "<div>\n",
       "<style scoped>\n",
       "    .dataframe tbody tr th:only-of-type {\n",
       "        vertical-align: middle;\n",
       "    }\n",
       "\n",
       "    .dataframe tbody tr th {\n",
       "        vertical-align: top;\n",
       "    }\n",
       "\n",
       "    .dataframe thead th {\n",
       "        text-align: right;\n",
       "    }\n",
       "</style>\n",
       "<table border=\"1\" class=\"dataframe\">\n",
       "  <thead>\n",
       "    <tr style=\"text-align: right;\">\n",
       "      <th></th>\n",
       "      <th>Emp_ID</th>\n",
       "      <th>working_hours</th>\n",
       "      <th>salary</th>\n",
       "    </tr>\n",
       "  </thead>\n",
       "  <tbody>\n",
       "    <tr>\n",
       "      <th>count</th>\n",
       "      <td>8.00000</td>\n",
       "      <td>8.00000</td>\n",
       "      <td>8.000000</td>\n",
       "    </tr>\n",
       "    <tr>\n",
       "      <th>mean</th>\n",
       "      <td>104.50000</td>\n",
       "      <td>7.75000</td>\n",
       "      <td>271750.000000</td>\n",
       "    </tr>\n",
       "    <tr>\n",
       "      <th>std</th>\n",
       "      <td>2.44949</td>\n",
       "      <td>1.28174</td>\n",
       "      <td>362919.018909</td>\n",
       "    </tr>\n",
       "    <tr>\n",
       "      <th>min</th>\n",
       "      <td>101.00000</td>\n",
       "      <td>6.00000</td>\n",
       "      <td>34000.000000</td>\n",
       "    </tr>\n",
       "    <tr>\n",
       "      <th>25%</th>\n",
       "      <td>102.75000</td>\n",
       "      <td>6.75000</td>\n",
       "      <td>40000.000000</td>\n",
       "    </tr>\n",
       "    <tr>\n",
       "      <th>50%</th>\n",
       "      <td>104.50000</td>\n",
       "      <td>8.00000</td>\n",
       "      <td>70000.000000</td>\n",
       "    </tr>\n",
       "    <tr>\n",
       "      <th>75%</th>\n",
       "      <td>106.25000</td>\n",
       "      <td>9.00000</td>\n",
       "      <td>365000.000000</td>\n",
       "    </tr>\n",
       "    <tr>\n",
       "      <th>max</th>\n",
       "      <td>108.00000</td>\n",
       "      <td>9.00000</td>\n",
       "      <td>900000.000000</td>\n",
       "    </tr>\n",
       "  </tbody>\n",
       "</table>\n",
       "</div>"
      ],
      "text/plain": [
       "          Emp_ID  working_hours         salary\n",
       "count    8.00000        8.00000       8.000000\n",
       "mean   104.50000        7.75000  271750.000000\n",
       "std      2.44949        1.28174  362919.018909\n",
       "min    101.00000        6.00000   34000.000000\n",
       "25%    102.75000        6.75000   40000.000000\n",
       "50%    104.50000        8.00000   70000.000000\n",
       "75%    106.25000        9.00000  365000.000000\n",
       "max    108.00000        9.00000  900000.000000"
      ]
     },
     "execution_count": 49,
     "metadata": {},
     "output_type": "execute_result"
    }
   ],
   "source": [
    "df.describe()"
   ]
  },
  {
   "cell_type": "code",
   "execution_count": 50,
   "id": "0ba792b8-d826-419e-a3bb-7714b155594e",
   "metadata": {},
   "outputs": [],
   "source": [
    "#how we can export our dataframe into local system\""
   ]
  },
  {
   "cell_type": "code",
   "execution_count": 60,
   "id": "6bc6b5b4-3de7-43c7-a7a5-3298f2e2ab3a",
   "metadata": {},
   "outputs": [],
   "source": [
    "#df.to_csv(\"C:\\\\Users\\\\pc\\\\Desktop\\\\rajat program\\\\emp_info.csv\")"
   ]
  },
  {
   "cell_type": "code",
   "execution_count": null,
   "id": "e332e035-3816-4691-a11d-5d5cb35c4db1",
   "metadata": {},
   "outputs": [],
   "source": [
    "#df.to_excel(\"C:\\\\Users\\\\pc\\\\Desktop\\\\rajat program\\\\emp_info.xlsx\")"
   ]
  },
  {
   "cell_type": "code",
   "execution_count": null,
   "id": "84f7fad8-993d-4a73-961c-49e281946d74",
   "metadata": {},
   "outputs": [],
   "source": []
  },
  {
   "cell_type": "code",
   "execution_count": null,
   "id": "896fef0d-a451-4510-ab4f-8badc47e9ac1",
   "metadata": {},
   "outputs": [],
   "source": []
  },
  {
   "cell_type": "code",
   "execution_count": 61,
   "id": "2b1c536d-e3b9-4fdd-aaac-a7402a7883ea",
   "metadata": {},
   "outputs": [],
   "source": [
    "#how can we import our file into jupyternotebook?"
   ]
  },
  {
   "cell_type": "code",
   "execution_count": 62,
   "id": "4760fbe8-af03-45f1-9288-6b5368d45ed7",
   "metadata": {},
   "outputs": [],
   "source": [
    "df = pd.read_csv(\"C:\\\\Users\\\\pc\\\\Desktop\\\\rajat program\\\\emp_info.csv\")"
   ]
  },
  {
   "cell_type": "code",
   "execution_count": 63,
   "id": "b7a5fae1-96b0-470a-840e-77b986fa8ca9",
   "metadata": {},
   "outputs": [
    {
     "data": {
      "text/html": [
       "<div>\n",
       "<style scoped>\n",
       "    .dataframe tbody tr th:only-of-type {\n",
       "        vertical-align: middle;\n",
       "    }\n",
       "\n",
       "    .dataframe tbody tr th {\n",
       "        vertical-align: top;\n",
       "    }\n",
       "\n",
       "    .dataframe thead th {\n",
       "        text-align: right;\n",
       "    }\n",
       "</style>\n",
       "<table border=\"1\" class=\"dataframe\">\n",
       "  <thead>\n",
       "    <tr style=\"text-align: right;\">\n",
       "      <th></th>\n",
       "      <th>Unnamed: 0</th>\n",
       "      <th>Emp_ID</th>\n",
       "      <th>Name</th>\n",
       "      <th>department</th>\n",
       "      <th>working_hours</th>\n",
       "      <th>salary</th>\n",
       "    </tr>\n",
       "  </thead>\n",
       "  <tbody>\n",
       "    <tr>\n",
       "      <th>0</th>\n",
       "      <td>0</td>\n",
       "      <td>101</td>\n",
       "      <td>b</td>\n",
       "      <td>IT</td>\n",
       "      <td>8</td>\n",
       "      <td>34000</td>\n",
       "    </tr>\n",
       "    <tr>\n",
       "      <th>1</th>\n",
       "      <td>1</td>\n",
       "      <td>102</td>\n",
       "      <td>B</td>\n",
       "      <td>CS</td>\n",
       "      <td>9</td>\n",
       "      <td>40000</td>\n",
       "    </tr>\n",
       "    <tr>\n",
       "      <th>2</th>\n",
       "      <td>2</td>\n",
       "      <td>103</td>\n",
       "      <td>b</td>\n",
       "      <td>ME</td>\n",
       "      <td>7</td>\n",
       "      <td>220000</td>\n",
       "    </tr>\n",
       "    <tr>\n",
       "      <th>3</th>\n",
       "      <td>3</td>\n",
       "      <td>104</td>\n",
       "      <td>b</td>\n",
       "      <td>CV</td>\n",
       "      <td>8</td>\n",
       "      <td>40000</td>\n",
       "    </tr>\n",
       "    <tr>\n",
       "      <th>4</th>\n",
       "      <td>4</td>\n",
       "      <td>105</td>\n",
       "      <td>b</td>\n",
       "      <td>MN</td>\n",
       "      <td>9</td>\n",
       "      <td>60000</td>\n",
       "    </tr>\n",
       "    <tr>\n",
       "      <th>5</th>\n",
       "      <td>5</td>\n",
       "      <td>106</td>\n",
       "      <td>b</td>\n",
       "      <td>FG</td>\n",
       "      <td>9</td>\n",
       "      <td>800000</td>\n",
       "    </tr>\n",
       "    <tr>\n",
       "      <th>6</th>\n",
       "      <td>6</td>\n",
       "      <td>107</td>\n",
       "      <td>b</td>\n",
       "      <td>TY</td>\n",
       "      <td>6</td>\n",
       "      <td>900000</td>\n",
       "    </tr>\n",
       "    <tr>\n",
       "      <th>7</th>\n",
       "      <td>7</td>\n",
       "      <td>108</td>\n",
       "      <td>d</td>\n",
       "      <td>RR</td>\n",
       "      <td>6</td>\n",
       "      <td>80000</td>\n",
       "    </tr>\n",
       "  </tbody>\n",
       "</table>\n",
       "</div>"
      ],
      "text/plain": [
       "   Unnamed: 0  Emp_ID Name department  working_hours  salary\n",
       "0           0     101    b         IT              8   34000\n",
       "1           1     102    B         CS              9   40000\n",
       "2           2     103    b         ME              7  220000\n",
       "3           3     104    b         CV              8   40000\n",
       "4           4     105    b         MN              9   60000\n",
       "5           5     106    b         FG              9  800000\n",
       "6           6     107    b         TY              6  900000\n",
       "7           7     108    d         RR              6   80000"
      ]
     },
     "execution_count": 63,
     "metadata": {},
     "output_type": "execute_result"
    }
   ],
   "source": [
    "df"
   ]
  },
  {
   "cell_type": "code",
   "execution_count": null,
   "id": "b65d5129-7dff-4c8c-963f-4281ad6563d9",
   "metadata": {},
   "outputs": [],
   "source": []
  }
 ],
 "metadata": {
  "kernelspec": {
   "display_name": "Python 3 (ipykernel)",
   "language": "python",
   "name": "python3"
  },
  "language_info": {
   "codemirror_mode": {
    "name": "ipython",
    "version": 3
   },
   "file_extension": ".py",
   "mimetype": "text/x-python",
   "name": "python",
   "nbconvert_exporter": "python",
   "pygments_lexer": "ipython3",
   "version": "3.12.4"
  }
 },
 "nbformat": 4,
 "nbformat_minor": 5
}
